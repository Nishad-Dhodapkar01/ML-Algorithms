{
 "cells": [
  {
   "cell_type": "markdown",
   "id": "88702ac2-31d9-4499-913a-1733ead6b0f6",
   "metadata": {},
   "source": [
    "Introduction:\n",
    "\n",
    "Linear regression is a method used to find the relationship between two variables. Imagine you have a set of points on a graph and you want to draw a straight line that best represents the overall trend of these points. This line helps you predict values based on past data. In simple terms, linear regression helps you \"fit\" a straight line through data to make predictions or understand trends.\n",
    "\n",
    "Definition:\n",
    "\n",
    "Linear regression is a statistical technique used to model the relationship between a dependent variable Y and one or more independent variables X. \n",
    "The simplest case is simple linear regression, where there is only one independent variable.\n",
    "The relationship is modeled by the equation of a straight line:\n",
    "Y=mX+b\n",
    "\n",
    "Where:\n",
    "Y is the dependent variable (the one you want to predict or explain).\n",
    "X is the independent variable (the one you use to make predictions).\n",
    "m is the slope of the line (shows how much Y changes for each unit change in X).\n",
    "b is the intercept of the line (the value of Y when X=0).\n",
    "The goal of linear regression is to determine the best values for m (slope) and b (intercept), which results in the line that minimizes the difference between the predicted values of Y and the actual values in the dataset.\n",
    "\n",
    "\n",
    "Algorithm:\n",
    "\n",
    "1) Input Data: Given a set of data points (x1,y1),(x2,y2),..(xn,yn)\n",
    "2) Compute Sums: Calculate the total of X values, Y values, products of X and Y, and squares of X values.\n",
    "3) Calculate Slope (m): Use the formula:\n",
    "   m = (n * sum(XY) - sum(X) * sum(Y)) / (n * sum(X^2) - (sum(X))^2)\n",
    "4) Calculate Intercept (b): Use the formula:\n",
    "   b = (sum(Y) - m * sum(X)) / n\n",
    "5) Construct Regression Line: The regression equation is Y=mX+b.\n",
    "6) Prediction: For a new X, predict Y using Y=mX+b.\n",
    "7) Evaluate the Model: Measure model accuracy with metrics like Mean Squared Error (MSE) or R-squared."
   ]
  },
  {
   "cell_type": "code",
   "execution_count": 1,
   "id": "29654ad3-127d-4a25-bc97-d8740a20ce91",
   "metadata": {},
   "outputs": [],
   "source": [
    "import pandas as pd\n",
    "import numpy as np\n",
    "from sklearn.model_selection import train_test_split\n",
    "from sklearn.linear_model import LinearRegression\n",
    "from sklearn.metrics import r2_score"
   ]
  },
  {
   "cell_type": "code",
   "execution_count": 2,
   "id": "663b620a-618a-41a0-bd78-4d5792250fa7",
   "metadata": {},
   "outputs": [],
   "source": [
    "df = pd.read_csv(r\"C:\\Users\\iamni\\OneDrive\\Desktop\\Salary_Data.csv\") #pandas "
   ]
  },
  {
   "cell_type": "code",
   "execution_count": 3,
   "id": "0d14dfec-7aa0-4071-b839-d2339fc05c25",
   "metadata": {},
   "outputs": [
    {
     "data": {
      "text/html": [
       "<div>\n",
       "<style scoped>\n",
       "    .dataframe tbody tr th:only-of-type {\n",
       "        vertical-align: middle;\n",
       "    }\n",
       "\n",
       "    .dataframe tbody tr th {\n",
       "        vertical-align: top;\n",
       "    }\n",
       "\n",
       "    .dataframe thead th {\n",
       "        text-align: right;\n",
       "    }\n",
       "</style>\n",
       "<table border=\"1\" class=\"dataframe\">\n",
       "  <thead>\n",
       "    <tr style=\"text-align: right;\">\n",
       "      <th></th>\n",
       "      <th>YearsExperience</th>\n",
       "      <th>Salary</th>\n",
       "    </tr>\n",
       "  </thead>\n",
       "  <tbody>\n",
       "    <tr>\n",
       "      <th>0</th>\n",
       "      <td>1.1</td>\n",
       "      <td>39343</td>\n",
       "    </tr>\n",
       "    <tr>\n",
       "      <th>1</th>\n",
       "      <td>1.3</td>\n",
       "      <td>46205</td>\n",
       "    </tr>\n",
       "    <tr>\n",
       "      <th>2</th>\n",
       "      <td>1.5</td>\n",
       "      <td>37731</td>\n",
       "    </tr>\n",
       "    <tr>\n",
       "      <th>3</th>\n",
       "      <td>2.0</td>\n",
       "      <td>43525</td>\n",
       "    </tr>\n",
       "    <tr>\n",
       "      <th>4</th>\n",
       "      <td>2.2</td>\n",
       "      <td>39891</td>\n",
       "    </tr>\n",
       "  </tbody>\n",
       "</table>\n",
       "</div>"
      ],
      "text/plain": [
       "   YearsExperience  Salary\n",
       "0              1.1   39343\n",
       "1              1.3   46205\n",
       "2              1.5   37731\n",
       "3              2.0   43525\n",
       "4              2.2   39891"
      ]
     },
     "execution_count": 3,
     "metadata": {},
     "output_type": "execute_result"
    }
   ],
   "source": [
    "df.head() #pandas "
   ]
  },
  {
   "cell_type": "code",
   "execution_count": 4,
   "id": "03b014b4-798e-4c57-9ab3-b731c641af21",
   "metadata": {},
   "outputs": [
    {
     "data": {
      "text/plain": [
       "(30, 2)"
      ]
     },
     "execution_count": 4,
     "metadata": {},
     "output_type": "execute_result"
    }
   ],
   "source": [
    "df.shape #pandas "
   ]
  },
  {
   "cell_type": "code",
   "execution_count": 5,
   "id": "e977291c-81c0-49ba-bc1b-d8e06f626336",
   "metadata": {},
   "outputs": [
    {
     "data": {
      "text/plain": [
       "60"
      ]
     },
     "execution_count": 5,
     "metadata": {},
     "output_type": "execute_result"
    }
   ],
   "source": [
    "df.size #pandas "
   ]
  },
  {
   "cell_type": "code",
   "execution_count": 6,
   "id": "1bcde03b-4a20-482c-ab64-35f2e7df4ebe",
   "metadata": {},
   "outputs": [
    {
     "name": "stdout",
     "output_type": "stream",
     "text": [
      "<class 'pandas.core.frame.DataFrame'>\n",
      "RangeIndex: 30 entries, 0 to 29\n",
      "Data columns (total 2 columns):\n",
      " #   Column           Non-Null Count  Dtype  \n",
      "---  ------           --------------  -----  \n",
      " 0   YearsExperience  30 non-null     float64\n",
      " 1   Salary           30 non-null     int64  \n",
      "dtypes: float64(1), int64(1)\n",
      "memory usage: 612.0 bytes\n"
     ]
    }
   ],
   "source": [
    "df.info() #pandas "
   ]
  },
  {
   "cell_type": "code",
   "execution_count": 7,
   "id": "58f63b5d-9ce9-42ee-9fb5-bc351e1a6023",
   "metadata": {},
   "outputs": [
    {
     "data": {
      "text/html": [
       "<div>\n",
       "<style scoped>\n",
       "    .dataframe tbody tr th:only-of-type {\n",
       "        vertical-align: middle;\n",
       "    }\n",
       "\n",
       "    .dataframe tbody tr th {\n",
       "        vertical-align: top;\n",
       "    }\n",
       "\n",
       "    .dataframe thead th {\n",
       "        text-align: right;\n",
       "    }\n",
       "</style>\n",
       "<table border=\"1\" class=\"dataframe\">\n",
       "  <thead>\n",
       "    <tr style=\"text-align: right;\">\n",
       "      <th></th>\n",
       "      <th>YearsExperience</th>\n",
       "      <th>Salary</th>\n",
       "    </tr>\n",
       "  </thead>\n",
       "  <tbody>\n",
       "    <tr>\n",
       "      <th>count</th>\n",
       "      <td>30.000000</td>\n",
       "      <td>30.000000</td>\n",
       "    </tr>\n",
       "    <tr>\n",
       "      <th>mean</th>\n",
       "      <td>5.313333</td>\n",
       "      <td>76003.000000</td>\n",
       "    </tr>\n",
       "    <tr>\n",
       "      <th>std</th>\n",
       "      <td>2.837888</td>\n",
       "      <td>27414.429785</td>\n",
       "    </tr>\n",
       "    <tr>\n",
       "      <th>min</th>\n",
       "      <td>1.100000</td>\n",
       "      <td>37731.000000</td>\n",
       "    </tr>\n",
       "    <tr>\n",
       "      <th>25%</th>\n",
       "      <td>3.200000</td>\n",
       "      <td>56720.750000</td>\n",
       "    </tr>\n",
       "    <tr>\n",
       "      <th>50%</th>\n",
       "      <td>4.700000</td>\n",
       "      <td>65237.000000</td>\n",
       "    </tr>\n",
       "    <tr>\n",
       "      <th>75%</th>\n",
       "      <td>7.700000</td>\n",
       "      <td>100544.750000</td>\n",
       "    </tr>\n",
       "    <tr>\n",
       "      <th>max</th>\n",
       "      <td>10.500000</td>\n",
       "      <td>122391.000000</td>\n",
       "    </tr>\n",
       "  </tbody>\n",
       "</table>\n",
       "</div>"
      ],
      "text/plain": [
       "       YearsExperience         Salary\n",
       "count        30.000000      30.000000\n",
       "mean          5.313333   76003.000000\n",
       "std           2.837888   27414.429785\n",
       "min           1.100000   37731.000000\n",
       "25%           3.200000   56720.750000\n",
       "50%           4.700000   65237.000000\n",
       "75%           7.700000  100544.750000\n",
       "max          10.500000  122391.000000"
      ]
     },
     "execution_count": 7,
     "metadata": {},
     "output_type": "execute_result"
    }
   ],
   "source": [
    "df.describe() #pandas "
   ]
  },
  {
   "cell_type": "code",
   "execution_count": 8,
   "id": "000af254-a154-4316-90ad-3691a5c2b25e",
   "metadata": {},
   "outputs": [],
   "source": [
    "x = df['YearsExperience'].values.reshape(-1,1) #.values is a pandas function and .reshape is a numpy function\n",
    "y = df['Salary']"
   ]
  },
  {
   "cell_type": "code",
   "execution_count": 9,
   "id": "63f75856-e34a-4b23-b928-5f55c3f1ac61",
   "metadata": {},
   "outputs": [],
   "source": [
    "x_train, x_test, y_train, y_test = train_test_split(x,y,test_size = 0.3, random_state = 10)\n",
    "#sklearn (train_test_split is a function from the sklearn.model_selection module of the sci-kit learn library)"
   ]
  },
  {
   "cell_type": "code",
   "execution_count": 10,
   "id": "01ca6c25-054c-4fb8-a7f3-3bbc1e85ac32",
   "metadata": {},
   "outputs": [],
   "source": [
    "model = LinearRegression()\n",
    "model.fit(x_train, y_train)\n",
    "x_test_pred = model.predict(x_test)\n",
    "#sklearn library used\n",
    "#sklearn is the library, linear_model is the module and LinearRegression is the class\n",
    "#.fit() and .predict() are functions from sklearn library"
   ]
  },
  {
   "cell_type": "code",
   "execution_count": 11,
   "id": "11813439-2d0d-4cd4-957f-89f5b85e83b1",
   "metadata": {},
   "outputs": [
    {
     "data": {
      "text/plain": [
       "0.9647278344670828"
      ]
     },
     "execution_count": 11,
     "metadata": {},
     "output_type": "execute_result"
    }
   ],
   "source": [
    "accuracy = r2_score(y_test, x_test_pred) #accuracy_score is a function from the metrics module form sklearn library\n",
    "accuracy"
   ]
  }
 ],
 "metadata": {
  "kernelspec": {
   "display_name": "Python 3 (ipykernel)",
   "language": "python",
   "name": "python3"
  },
  "language_info": {
   "codemirror_mode": {
    "name": "ipython",
    "version": 3
   },
   "file_extension": ".py",
   "mimetype": "text/x-python",
   "name": "python",
   "nbconvert_exporter": "python",
   "pygments_lexer": "ipython3",
   "version": "3.12.3"
  }
 },
 "nbformat": 4,
 "nbformat_minor": 5
}
